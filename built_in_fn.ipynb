{
  "nbformat": 4,
  "nbformat_minor": 0,
  "metadata": {
    "colab": {
      "name": "built in fn",
      "provenance": []
    },
    "kernelspec": {
      "name": "python3",
      "display_name": "Python 3"
    },
    "language_info": {
      "name": "python"
    }
  },
  "cells": [
    {
      "cell_type": "code",
      "execution_count": null,
      "metadata": {
        "colab": {
          "base_uri": "https://localhost:8080/"
        },
        "id": "LrDtqY3GWwAs",
        "outputId": "a746f605-f064-4b0c-fe1a-af0a420ea7a1"
      },
      "outputs": [
        {
          "output_type": "stream",
          "name": "stdout",
          "text": [
            "0.143\n"
          ]
        }
      ],
      "source": [
        "nega_num=.143\n",
        "print(abs(nega_num))"
      ]
    },
    {
      "cell_type": "code",
      "source": [
        "x=pow(4,5,6)\n",
        "print(x)"
      ],
      "metadata": {
        "colab": {
          "base_uri": "https://localhost:8080/"
        },
        "id": "6dVv0dhnXkW1",
        "outputId": "f59f4352-8f5c-48c2-b941-f3570fee6443"
      },
      "execution_count": null,
      "outputs": [
        {
          "output_type": "stream",
          "name": "stdout",
          "text": [
            "4\n"
          ]
        }
      ]
    },
    {
      "cell_type": "code",
      "source": [
        "x=pow(3,4)\n",
        "print(x)"
      ],
      "metadata": {
        "colab": {
          "base_uri": "https://localhost:8080/"
        },
        "id": "-v715oy_X5TB",
        "outputId": "15e24514-f75c-4108-b58d-1bad3685a9d7"
      },
      "execution_count": null,
      "outputs": [
        {
          "output_type": "stream",
          "name": "stdout",
          "text": [
            "81\n"
          ]
        }
      ]
    },
    {
      "cell_type": "code",
      "source": [
        "class person:\n",
        "  name=\"merline\"\n",
        "  age=20\n",
        "  country=\"usa\"\n",
        "  education=\"engineering\"\n",
        "print(dir(person))"
      ],
      "metadata": {
        "colab": {
          "base_uri": "https://localhost:8080/"
        },
        "id": "577w072CYLhR",
        "outputId": "ff494f09-ac2d-4484-cb60-4c2650c785fb"
      },
      "execution_count": null,
      "outputs": [
        {
          "output_type": "stream",
          "name": "stdout",
          "text": [
            "['__class__', '__delattr__', '__dict__', '__dir__', '__doc__', '__eq__', '__format__', '__ge__', '__getattribute__', '__gt__', '__hash__', '__init__', '__init_subclass__', '__le__', '__lt__', '__module__', '__ne__', '__new__', '__reduce__', '__reduce_ex__', '__repr__', '__setattr__', '__sizeof__', '__str__', '__subclasshook__', '__weakref__', 'age', 'country', 'education', 'name']\n"
          ]
        }
      ]
    },
    {
      "cell_type": "code",
      "source": [
        "tuple=(\"h\",\"b\",\"a\",\"c\",\"f\",\"d\",\"e\",\"g\")\n",
        "print(sorted(tuple))"
      ],
      "metadata": {
        "colab": {
          "base_uri": "https://localhost:8080/"
        },
        "id": "tzDRb6IIaoFL",
        "outputId": "f7ab73b0-62a9-4b32-de30-fddd68429083"
      },
      "execution_count": null,
      "outputs": [
        {
          "output_type": "stream",
          "name": "stdout",
          "text": [
            "['a', 'b', 'c', 'd', 'e', 'f', 'g', 'h']\n"
          ]
        }
      ]
    },
    {
      "cell_type": "code",
      "source": [
        "names_tuple=('merline','sneha','sukanti','hansika','jayapriya')\n",
        "print(max(names_tuple))"
      ],
      "metadata": {
        "colab": {
          "base_uri": "https://localhost:8080/"
        },
        "id": "R73yOIZDbdXZ",
        "outputId": "1ae9433e-7cac-4081-e6ee-0e696dd81ea6"
      },
      "execution_count": null,
      "outputs": [
        {
          "output_type": "stream",
          "name": "stdout",
          "text": [
            "sukanti\n"
          ]
        }
      ]
    },
    {
      "cell_type": "code",
      "source": [
        "number_tuple=(123,4563,8798,984,-7394,9993)\n",
        "print(max(number_tuple))"
      ],
      "metadata": {
        "colab": {
          "base_uri": "https://localhost:8080/"
        },
        "id": "BpccCVP_cp7h",
        "outputId": "a40d48f4-f869-4fe7-880c-a22956df9724"
      },
      "execution_count": null,
      "outputs": [
        {
          "output_type": "stream",
          "name": "stdout",
          "text": [
            "9993\n"
          ]
        }
      ]
    },
    {
      "cell_type": "code",
      "source": [
        "number_tuple=(1,676,456,8940,7950)\n",
        "print(min(number_tuple))"
      ],
      "metadata": {
        "colab": {
          "base_uri": "https://localhost:8080/"
        },
        "id": "HnEUJkNrdLkJ",
        "outputId": "2526853f-37e1-4072-8c6d-d3e912cb6584"
      },
      "execution_count": null,
      "outputs": [
        {
          "output_type": "stream",
          "name": "stdout",
          "text": [
            "1\n"
          ]
        }
      ]
    },
    {
      "cell_type": "code",
      "source": [
        "nearest_number=round(97.04728945)\n",
        "print(nearest_number)\n",
        "                  "
      ],
      "metadata": {
        "colab": {
          "base_uri": "https://localhost:8080/"
        },
        "id": "rfSeABXldbe2",
        "outputId": "60b99358-232c-4e22-c470-2f975a45a4f6"
      },
      "execution_count": null,
      "outputs": [
        {
          "output_type": "stream",
          "name": "stdout",
          "text": [
            "97\n"
          ]
        }
      ]
    },
    {
      "cell_type": "code",
      "source": [
        "string=\"merline is bad\"\n",
        "print(len(string))"
      ],
      "metadata": {
        "colab": {
          "base_uri": "https://localhost:8080/"
        },
        "id": "Rxx-M8fmeS_q",
        "outputId": "12195e5d-a7e0-4424-f992-0a9abf6e9f1c"
      },
      "execution_count": null,
      "outputs": [
        {
          "output_type": "stream",
          "name": "stdout",
          "text": [
            "14\n"
          ]
        }
      ]
    },
    {
      "cell_type": "code",
      "source": [
        "a=(4,5,6,7,8)\n",
        "print(sum(a,10))"
      ],
      "metadata": {
        "colab": {
          "base_uri": "https://localhost:8080/"
        },
        "id": "VyfLW7AgfP7Y",
        "outputId": "694ecde9-877c-4963-b1da-a183a7a8829b"
      },
      "execution_count": null,
      "outputs": [
        {
          "output_type": "stream",
          "name": "stdout",
          "text": [
            "40\n"
          ]
        }
      ]
    },
    {
      "cell_type": "code",
      "source": [
        "def square(num):\n",
        "  \"\"\"this function computes the square of the number.\"\"\"\n",
        "  return num**2\n",
        "object_ =square(9)\n",
        "print(\"the square of the number is :\",object_)\n",
        "\n"
      ],
      "metadata": {
        "colab": {
          "base_uri": "https://localhost:8080/"
        },
        "id": "IFkunZYOhYex",
        "outputId": "88d582ad-1efa-4560-dd30-c949f457b214"
      },
      "execution_count": null,
      "outputs": [
        {
          "output_type": "stream",
          "name": "stdout",
          "text": [
            "the square of the number is : 81\n"
          ]
        }
      ]
    },
    {
      "cell_type": "code",
      "source": [
        "def square( my_list):\n",
        "  squares = []\n",
        "  for l in my_list:\n",
        "    squares.append(l**2)\n",
        "  return squares\n",
        "list_= [45, 52, 13];\n",
        "result = square(list_)\n",
        "print(\"Squares of the list is:\",result)"
      ],
      "metadata": {
        "colab": {
          "base_uri": "https://localhost:8080/"
        },
        "id": "47bwGKGnzffv",
        "outputId": "4a32b5fe-fa07-49f7-cc07-d512c90c4070"
      },
      "execution_count": null,
      "outputs": [
        {
          "output_type": "stream",
          "name": "stdout",
          "text": [
            "Squares of the list is: [2025, 2704, 169]\n"
          ]
        }
      ]
    }
  ]
}