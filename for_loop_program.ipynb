{
  "nbformat": 4,
  "nbformat_minor": 0,
  "metadata": {
    "colab": {
      "name": "for loop program",
      "provenance": [],
      "toc_visible": true
    },
    "kernelspec": {
      "name": "python3",
      "display_name": "Python 3"
    },
    "language_info": {
      "name": "python"
    }
  },
  "cells": [
    {
      "cell_type": "code",
      "execution_count": null,
      "metadata": {
        "colab": {
          "base_uri": "https://localhost:8080/"
        },
        "id": "1cfyaOMX7HLw",
        "outputId": "37904fb4-6195-45a1-f558-a0329240f349"
      },
      "outputs": [
        {
          "output_type": "stream",
          "name": "stdout",
          "text": [
            "enter the marks?94\n",
            "congrats!you scored grade A...\n"
          ]
        }
      ],
      "source": [
        "marks=int(input(\"enter the marks?\"))\n",
        "if marks>85and marks<=100:\n",
        "    print(\"congrats!you scored grade A...\")\n",
        "elif marks>60 and marks<=85:\n",
        "    print(\"you scored grade B+...\")\n",
        "elif marks>40and marks<=60:\n",
        "     print(\"you scored grade B...\")\n",
        "elif(marks>30 and marks<=40):\n",
        "     print(\"you scored grade C...\")"
      ]
    },
    {
      "cell_type": "code",
      "source": [
        "#code to find the sum of squares of each element of the list using the loop\n",
        "#creating the list of numbers \n",
        "numbers=[3,5,23,6,5,1,2,9,8]\n",
        "#initializing a variable that will store the \n",
        "sum_=0\n",
        "#using foe loop to iterate over the list for num in numbers:\n",
        "sum_=sum_+num**2\n"
      ],
      "metadata": {
        "id": "OQ0b7T1v_u8o"
      },
      "execution_count": null,
      "outputs": []
    },
    {
      "cell_type": "code",
      "source": [
        "#itertion over a string\n",
        "print(\"string iteration\")\n",
        "s=\"merlinekate\"\n",
        "for i in s:\n",
        "  print(i)\n"
      ],
      "metadata": {
        "colab": {
          "base_uri": "https://localhost:8080/"
        },
        "id": "FjBiMC3dCiDB",
        "outputId": "461c6f2a-9412-414a-eb7f-ca57141ddd74"
      },
      "execution_count": null,
      "outputs": [
        {
          "output_type": "stream",
          "name": "stdout",
          "text": [
            "string iteration\n",
            "m\n",
            "e\n",
            "r\n",
            "l\n",
            "i\n",
            "n\n",
            "e\n",
            "k\n",
            "a\n",
            "t\n",
            "e\n"
          ]
        }
      ]
    },
    {
      "cell_type": "code",
      "source": [
        "for i in range(1,11):\n",
        "  #if i is equal to 6,\n",
        "  #continue to next iteration \n",
        "  #without printing \n",
        "  if i==6:\n",
        "    continue\n",
        "else:\n",
        "      # otherwise print the value \n",
        "      # of i\n",
        "  print(i,end=\"\")\n"
      ],
      "metadata": {
        "colab": {
          "base_uri": "https://localhost:8080/"
        },
        "id": "6JUo-CKLDyp0",
        "outputId": "a6c5c938-0165-4a6f-dba2-b9ccfbcd0544"
      },
      "execution_count": null,
      "outputs": [
        {
          "output_type": "stream",
          "name": "stdout",
          "text": [
            "10"
          ]
        }
      ]
    },
    {
      "cell_type": "code",
      "source": [
        "for i in range(10):\n",
        "  print(i)\n",
        "  if i==2:\n",
        "    break"
      ],
      "metadata": {
        "id": "FI3kIlK6Ch1P",
        "colab": {
          "base_uri": "https://localhost:8080/"
        },
        "outputId": "2efc63bc-bc6b-48d5-de07-f962f7d9f23f"
      },
      "execution_count": null,
      "outputs": [
        {
          "output_type": "stream",
          "name": "stdout",
          "text": [
            "0\n",
            "1\n",
            "2\n"
          ]
        }
      ]
    },
    {
      "cell_type": "code",
      "source": [
        "i=0\n",
        "while i<10:\n",
        "  print(i)\n",
        "  i+=1"
      ],
      "metadata": {
        "colab": {
          "base_uri": "https://localhost:8080/"
        },
        "id": "ys8LCnHLVx3Y",
        "outputId": "7bd5b04f-e96f-4d44-922a-13667630fd24"
      },
      "execution_count": null,
      "outputs": [
        {
          "output_type": "stream",
          "name": "stdout",
          "text": [
            "0\n",
            "1\n",
            "2\n",
            "3\n",
            "4\n",
            "5\n",
            "6\n",
            "7\n",
            "8\n",
            "9\n"
          ]
        }
      ]
    },
    {
      "cell_type": "code",
      "source": [
        ""
      ],
      "metadata": {
        "id": "Vngx968TWjVL"
      },
      "execution_count": null,
      "outputs": []
    }
  ]
}